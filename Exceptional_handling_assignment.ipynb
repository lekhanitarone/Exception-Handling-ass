{
  "nbformat": 4,
  "nbformat_minor": 0,
  "metadata": {
    "colab": {
      "provenance": []
    },
    "kernelspec": {
      "name": "python3",
      "display_name": "Python 3"
    },
    "language_info": {
      "name": "python"
    }
  },
  "cells": [
    {
      "cell_type": "markdown",
      "source": [
        "\n",
        "\n",
        "**1. What is the difference between interpreted and compiled languages?**\n",
        ">Interpreted languages (like Python) execute code line by line, while compiled languages (like C++) convert code into machine language before execution.\n",
        "\n",
        "**2. What is exception handling in Python?**\n",
        ">Exception handling in Python manages errors using `try`, `except`, `else`, and `finally` blocks to prevent program crashes.\n",
        "\n",
        "**3. What is the purpose of the finally block in exception handling?**\n",
        ">The `finally` block runs code regardless of whether an exception occurred, usually for cleanup actions like closing files.\n",
        "\n",
        "**4. What is logging in Python?**\n",
        ">Logging records events or errors during program execution, helping with debugging and monitoring instead of just printing outputs.\n",
        "\n",
        "**5. What is the significance of the **del** method in Python?**\n",
        ">`__del__` is a destructor method called when an object is deleted, useful for resource cleanup before the object is destroyed.\n",
        "\n",
        "**6. What is the difference between import and from ... import in Python?**\n",
        ">`import` imports the whole module, while `from module import item` imports specific functions or classes from a module.\n",
        "\n",
        "**7. How can you handle multiple exceptions in Python?**\n",
        ">Use multiple `except` blocks or a single `except (Error1, Error2):` block to catch multiple exceptions.\n",
        "\n",
        "**8. What is the purpose of the with statement when handling files in Python?**\n",
        ">The `with` statement automatically closes files after the block is executed, even if exceptions occur.\n",
        "\n",
        "**9. What is the difference between multithreading and multiprocessing?**\n",
        ">Multithreading runs multiple threads (lightweight processes) in one process; multiprocessing runs separate processes using multiple CPUs.\n",
        "\n",
        "**10. What are the advantages of using logging in a program?**\n",
        ">Logging tracks events systematically, helps in debugging, and allows recording information without interrupting program flow.\n",
        "\n",
        "**11. What is memory management in Python?**\n",
        ">Python handles memory automatically using reference counting and garbage collection to reclaim unused memory.\n",
        "\n",
        "**12. What are the basic steps involved in exception handling in Python?**\n",
        ">Use `try` to test code, `except` to handle errors, `else` for code if no error occurs, and `finally` for cleanup actions.\n",
        "\n",
        "**13. Why is memory management important in Python?**\n",
        ">It prevents memory leaks, ensures efficient resource use, and keeps programs running smoothly without running out of memory.\n",
        "\n",
        "**14. What is the role of try and except in exception handling?**\n",
        ">`try` runs code that might fail, and `except` catches and handles exceptions to prevent program crashes.\n",
        "\n",
        "**15. How does Python's garbage collection system work?**\n",
        ">Python automatically frees unused memory using reference counting and a cyclic garbage collector for circular references.\n",
        "\n",
        "**16. What is the purpose of the else block in exception handling?**\n",
        ">The `else` block runs if no exceptions are raised in the `try` block, separating error-free logic from error-handling code.\n",
        "\n",
        "**17. What are the common logging levels in Python?**\n",
        ">Common levels are DEBUG, INFO, WARNING, ERROR, and CRITICAL, representing increasing severity of events.\n",
        "\n",
        "**18. What is the difference between os.fork() and multiprocessing in Python?**\n",
        ">`os.fork()` creates a child process (Unix only), while `multiprocessing` is cross-platform and easier to manage with process-based parallelism.\n",
        "\n",
        "**19. What is the importance of closing a file in Python?**\n",
        ">Closing a file frees system resources and ensures data is properly written to disk, avoiding data corruption.\n",
        "\n",
        "**20. What is the difference between file.read() and file.readline() in Python?**\n",
        ">`file.read()` reads the entire file at once; `file.readline()` reads one line at a time.\n",
        "\n",
        "**21. What is the logging module in Python used for?**\n",
        ">The logging module is used to track events, errors, and debug information during program execution.\n",
        "\n",
        "**22. What is the os module in Python used for in file handling?**\n",
        ">The `os` module helps with file and directory operations like creating, deleting, and navigating file paths.\n",
        "\n",
        "**23. What are the challenges associated with memory management in Python?**\n",
        ">Challenges include handling circular references, high memory usage in large applications, and performance impacts from garbage collection.\n",
        "\n",
        "**24. How do you raise an exception manually in Python?**\n",
        ">Use the `raise` keyword followed by the exception type, like `raise ValueError(\"message\")`.\n",
        "\n",
        "**25. Why is it important to use multithreading in certain applications?**\n",
        ">Multithreading improves performance in I/O-bound tasks by allowing parallel execution, making programs faster and more responsive.\n"
      ],
      "metadata": {
        "id": "j-CpjWPCLGA5"
      }
    },
    {
      "cell_type": "code",
      "source": [
        "#1. How can you open a file for writing in Python and write a string to it?\n",
        "\n",
        "Use with open(\"file.txt\", \"w\") as f: and f.write(\"your text\"); this creates or overwrites the file and writes the string."
      ],
      "metadata": {
        "id": "GOFOCJEyMMAx"
      },
      "execution_count": null,
      "outputs": []
    },
    {
      "cell_type": "code",
      "source": [
        "#2.Write a Python program to read the contents of a file and print each line.\n",
        "with open(\"file.txt\", \"r\") as f:\n",
        "    for line in f:\n",
        "        print(line.strip())\n"
      ],
      "metadata": {
        "id": "qPhPbnJ-MX80"
      },
      "execution_count": null,
      "outputs": []
    },
    {
      "cell_type": "code",
      "source": [
        "#3. How would you handle a case where the file doesn't exist while trying to open it for reading?\n",
        "\n",
        "Use a try-except block to catch FileNotFoundError and print an error message"
      ],
      "metadata": {
        "id": "8m617nNIMew8"
      },
      "execution_count": null,
      "outputs": []
    },
    {
      "cell_type": "code",
      "source": [
        "#4. Write a Python script that reads from one file and writes its content to another file.\n",
        "\n",
        "with open(\"source.txt\", \"r\") as src, open(\"dest.txt\", \"w\") as dest:\n",
        "    dest.write(src.read())\n"
      ],
      "metadata": {
        "id": "uAnBSYG8Ms1g"
      },
      "execution_count": null,
      "outputs": []
    },
    {
      "cell_type": "code",
      "source": [
        "#5. How would you catch and handle division by zero error in Python?\n",
        "\n",
        "Use try-except to catch ZeroDivisionError and print a user-friendly message."
      ],
      "metadata": {
        "id": "UNfa5VAXMyG6"
      },
      "execution_count": null,
      "outputs": []
    },
    {
      "cell_type": "code",
      "source": [
        "#6. Write a Python program that logs an error message to a log file when a division by zero exception occurs.\n",
        "\n",
        "import logging\n",
        "logging.basicConfig(filename=\"error.log\", level=logging.ERROR)\n",
        "try: a = 5 / 0\n",
        "except ZeroDivisionError: logging.error(\"Division by zero occurred\")\n"
      ],
      "metadata": {
        "id": "m-DHu6BEM-Me"
      },
      "execution_count": null,
      "outputs": []
    },
    {
      "cell_type": "code",
      "source": [
        "#7. How do you log information at different levels (INFO, ERROR, WARNING) in Python using the logging module?\n",
        "\n",
        "Use logging.info(), logging.warning(), and logging.error() after configuring logging with basicConfig()."
      ],
      "metadata": {
        "id": "KBJ4TFwaNJig"
      },
      "execution_count": null,
      "outputs": []
    },
    {
      "cell_type": "code",
      "source": [
        "# 8. Write a program to handle a file opening error using exception handling.\n",
        "\n",
        "try:\n",
        "    with open(\"file.txt\") as f: print(f.read())\n",
        "except FileNotFoundError:\n",
        "    print(\"File not found!\")\n",
        "\n",
        "\n",
        "\n"
      ],
      "metadata": {
        "id": "NlwXh0iZNOko"
      },
      "execution_count": null,
      "outputs": []
    },
    {
      "cell_type": "code",
      "source": [
        "#9. How can you read a file line by line and store its content in a list in Python?\n",
        "\n",
        "Use with open(\"file.txt\") as f: lines = f.readlines(); this stores all lines in a list."
      ],
      "metadata": {
        "id": "1l_lCN6RNaf0"
      },
      "execution_count": null,
      "outputs": []
    },
    {
      "cell_type": "code",
      "source": [
        "#10. How can you append data to an existing file in Python?\n",
        "\n",
        "Use with open(\"file.txt\", \"a\") as f: f.write(\"new data\") to append content without overwriting."
      ],
      "metadata": {
        "id": "7ndPgbjQNiIE"
      },
      "execution_count": null,
      "outputs": []
    },
    {
      "cell_type": "code",
      "source": [
        "#11. Write a Python program that uses a try-except block to handle an error when attempting to access a dictionary key that doesn't exist.\n",
        "\n",
        "d = {\"a\": 1}\n",
        "try: print(d[\"b\"])\n",
        "except KeyError: print(\"Key not found!\")\n",
        "\n",
        "\n",
        "\n"
      ],
      "metadata": {
        "id": "9jVqEtciNvDd"
      },
      "execution_count": null,
      "outputs": []
    },
    {
      "cell_type": "code",
      "source": [
        "#12. Write a program that demonstrates using multiple except blocks to handle different types of exceptions.\n",
        "\n",
        "try: x = int(\"abc\") / 0\n",
        "except ValueError: print(\"Value error!\")\n",
        "except ZeroDivisionError: print(\"Division error!\")\n"
      ],
      "metadata": {
        "id": "o8oE73Y3OCQo"
      },
      "execution_count": null,
      "outputs": []
    },
    {
      "cell_type": "code",
      "source": [
        "#13. How would you check if a file exists before attempting to read it in Python?\n",
        "\n",
        "Use import os and if os.path.exists(\"file.txt\"): to check file existence."
      ],
      "metadata": {
        "id": "mRITsxt5OODL"
      },
      "execution_count": null,
      "outputs": []
    },
    {
      "cell_type": "code",
      "source": [
        "#14. Write a program that uses the logging module to log both informational and error messages.\n",
        "\n",
        "import logging\n",
        "logging.basicConfig(level=logging.INFO)\n",
        "logging.info(\"This is info\")\n",
        "logging.error(\"This is error\")\n"
      ],
      "metadata": {
        "id": "iaCENSQ1OVgP"
      },
      "execution_count": null,
      "outputs": []
    },
    {
      "cell_type": "code",
      "source": [
        "#15. Write a Python program that prints the content of a file and handles the case when the file is empty.\n",
        "\n",
        "with open(\"file.txt\", \"r\") as f:\n",
        "    content = f.read()\n",
        "    if content: print(content)\n",
        "    else: print(\"File is empty\")\n"
      ],
      "metadata": {
        "id": "-OZ4KOWyOeyV"
      },
      "execution_count": null,
      "outputs": []
    },
    {
      "cell_type": "code",
      "source": [
        "#16 .Demonstrate how to use memory profiling to check the memory usage of a small program Use memory_profiler with a decorator:\n",
        "\n",
        "from memory_profiler import profile\n",
        "@profile\n",
        "def my_func(): a = [i for i in range(10000)]\n",
        "my_func()\n"
      ],
      "metadata": {
        "id": "3HA8tr3BOtm7"
      },
      "execution_count": null,
      "outputs": []
    },
    {
      "cell_type": "code",
      "source": [
        "#17.Write a Python program to create and write a list of numbers to a file, one number per line.\n",
        "\n",
        "numbers = [1, 2, 3, 4, 5]\n",
        "with open(\"numbers.txt\", \"w\") as f:\n",
        "    for num in numbers: f.write(f\"{num}\\n\")\n"
      ],
      "metadata": {
        "id": "50KieqjSPYHE"
      },
      "execution_count": null,
      "outputs": []
    },
    {
      "cell_type": "code",
      "source": [
        "#18.How would you implement a basic logging setup that logs to a file with rotation after 1MB?\n",
        "\n",
        "from logging.handlers import RotatingFileHandler\n",
        "handler = RotatingFileHandler(\"app.log\", maxBytes=1_000_000, backupCount=3)\n",
        "\n"
      ],
      "metadata": {
        "id": "E-zyiFcmPfNA"
      },
      "execution_count": null,
      "outputs": []
    },
    {
      "cell_type": "code",
      "source": [
        "#19.Write a program that handles both IndexError and KeyError using a try-except block.\n",
        "\n",
        "try: lst = [1]; print(lst[2])\n",
        "except IndexError: print(\"Index error!\")\n",
        "except KeyError: print(\"Key error!\")\n"
      ],
      "metadata": {
        "id": "8gpvBjl6PmYo"
      },
      "execution_count": null,
      "outputs": []
    },
    {
      "cell_type": "code",
      "source": [
        "#20.How would you open a file and read its contents using a context manager in Python?\n",
        "\n",
        "Use with open(\"file.txt\") as f: data = f.read(), which ensures the file closes automatically."
      ],
      "metadata": {
        "id": "HjGGkssaPwbh"
      },
      "execution_count": null,
      "outputs": []
    },
    {
      "cell_type": "code",
      "source": [
        "#21)Write a Python program that reads a file and prints the number of occurrences of a specific word.\n",
        "\n",
        "with open(\"file.txt\") as f:\n",
        "    print(f.read().count(\"word\"))\n"
      ],
      "metadata": {
        "id": "KDnqM_0wP3SV"
      },
      "execution_count": null,
      "outputs": []
    },
    {
      "cell_type": "code",
      "source": [
        "#22)How can you check if a file is empty before attempting to read its contents?\n",
        "\n",
        "import os\n",
        "if os.path.getsize(\"file.txt\") == 0: print(\"File is empty\")\n"
      ],
      "metadata": {
        "id": "1RMME0scP__i"
      },
      "execution_count": null,
      "outputs": []
    },
    {
      "cell_type": "code",
      "source": [
        "#23)Write a Python program that writes to a log file when an error occurs during file handling.\n",
        "\n",
        "import logging\n",
        "logging.basicConfig(filename=\"error.log\", level=logging.ERROR)\n",
        "try: with open(\"nofile.txt\") as f: f.read()\n",
        "except FileNotFoundError: logging.error(\"File not found!\")\n"
      ],
      "metadata": {
        "id": "Plvd3VV2QPn7"
      },
      "execution_count": null,
      "outputs": []
    }
  ]
}